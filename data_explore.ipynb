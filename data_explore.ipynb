{
 "cells": [
  {
   "cell_type": "code",
   "execution_count": 3,
   "id": "956618ee-5c8e-434f-9b37-cde912bdf4fa",
   "metadata": {},
   "outputs": [],
   "source": [
    "import pandas as pd\n",
    "import polars as pl"
   ]
  },
  {
   "cell_type": "code",
   "execution_count": 8,
   "id": "3006e68f-4eb8-44c1-906c-9429d5a4d9dc",
   "metadata": {},
   "outputs": [],
   "source": [
    "FILE_PATH = 'MycroftMind_challenge_dataset.xlsx'"
   ]
  },
  {
   "cell_type": "code",
   "execution_count": 49,
   "id": "b164a54e-616b-41c7-8e16-a8d619ff498b",
   "metadata": {},
   "outputs": [],
   "source": [
    "def print_sheet_names(file_path):\n",
    "    data_file = pd.ExcelFile(file_path)\n",
    "    names = list(data_file.sheet_names)[1:]\n",
    "    print(f'Sheet names: {names}')\n",
    "    for name in names:\n",
    "        sheet_data = pd.read_excel(file_path, name)\n",
    "        print(f'\\t{name}\\'s headers: {sheet_data.columns.to_list()}')\n",
    "\n",
    "def merge_data(file_path):\n",
    "    data_file = pd.ExcelFile(file_path)\n",
    "    sheet_names = list(data_file.sheet_names[1:])\n",
    "    merged_data = pd.read_excel(file_path, sheet_names[0]) #Imported and exported Energy\n",
    "    next_data = pd.read_excel(file_path, sheet_names[1]) #Predicted energy\n",
    "    merged_data = pd.merge(merged_data, next_data, on=['DeviceID', 'Timestamp'])\n",
    "    next_data = pd.read_excel(file_path, sheet_names[2]).drop(columns=['Imported_energy (kWh)']) #Flexibility\n",
    "    merged_data = pd.merge(merged_data, next_data, on=['DeviceID', 'Timestamp'])\n",
    "    next_data = pd.read_excel(file_path, sheet_names[3]) #Battery\n",
    "    merged_data = pd.merge(merged_data, next_data, on=['DeviceID', 'Timestamp'])\n",
    "    next_data = pd.read_excel(file_path, sheet_names[4]) #Battery params \n",
    "    merged_data = pd.merge(merged_data, next_data, on=['DeviceID'], how='left')\n",
    "    next_data = pd.read_excel(file_path, sheet_names[5]) #Weather\n",
    "    merged_data = pd.merge(merged_data, next_data, on=['Timestamp'], how='left')\n",
    "    next_data = pd.read_excel(file_path, sheet_names[6]) #Market prices\n",
    "    merged_data = pd.merge(merged_data, next_data, on=['Timestamp'], how='left')\n",
    "    return merged_data\n",
    "\n",
    "def transform_columns(df: pl.DataFrame):\n",
    "    return (\n",
    "        df\n",
    "        .with_columns(\n",
    "            Timestamp=pl.col('Timestamp').str.to_datetime(),\n",
    "            Local_demand=pl.col('Battery_capacity (kWh)') - pl.col('Stored_energy (kWh)'),\n",
    "            Spot_Price_EUR=pl.col('Spot_Price (EUR/MWh)').str.replace(',', '.').cast(float),\n",
    "            Spot_Price_CZK=pl.col('Spot_Price (CZK/MWh)').str.replace(',', '.').cast(float),\n",
    "        )\n",
    "        .drop(['Spot_Price (EUR/MWh)', 'Spot_Price (CZK/MWh)'])\n",
    "    )"
   ]
  },
  {
   "cell_type": "code",
   "execution_count": 50,
   "id": "7e36df20-4065-45af-9e5b-71bf7d167c24",
   "metadata": {},
   "outputs": [
    {
     "data": {
      "text/html": [
       "<div><style>\n",
       ".dataframe > thead > tr,\n",
       ".dataframe > tbody > tr {\n",
       "  text-align: right;\n",
       "  white-space: pre-wrap;\n",
       "}\n",
       "</style>\n",
       "<small>shape: (10, 26)</small><table border=\"1\" class=\"dataframe\"><thead><tr><th>DeviceID</th><th>Timestamp</th><th>Imported_energy (kWh)</th><th>Exported_energy (kWh)</th><th>Predicted_Imported_energy (kWh)</th><th>Predicted_Exported_energy (kWh)</th><th>Flexible_consumption (kWh)</th><th>Flexibility_demand_amount [-1;1]</th><th>Flexibility_demand_price (CZK/MWh)</th><th>Stored_energy (kWh)</th><th>Battery_capacity (kWh)</th><th>Max_charge_rate (kW)</th><th> Init_capacity (%)</th><th>t_2m:C</th><th>t_apparent:C</th><th>relative_humidity_2m:p</th><th>precip_15min:mm</th><th>diffuse_rad:W</th><th>direct_rad:W</th><th>global_rad:W</th><th>wind_speed_10m:ms</th><th>wind_dir_10m:d</th><th>uv:idx</th><th>Local_demand</th><th>Spot_Price_EUR</th><th>Spot_Price_CZK</th></tr><tr><td>str</td><td>datetime[μs]</td><td>f64</td><td>f64</td><td>f64</td><td>f64</td><td>f64</td><td>f64</td><td>f64</td><td>f64</td><td>i64</td><td>i64</td><td>i64</td><td>f64</td><td>f64</td><td>f64</td><td>f64</td><td>f64</td><td>f64</td><td>f64</td><td>f64</td><td>f64</td><td>f64</td><td>f64</td><td>f64</td><td>f64</td></tr></thead><tbody><tr><td>&quot;OM1&quot;</td><td>2024-01-01 00:00:00</td><td>0.044</td><td>0.0</td><td>0.038339</td><td>0.0</td><td>0.0</td><td>-0.456757</td><td>921.550783</td><td>7.0</td><td>14</td><td>6</td><td>50</td><td>2.4</td><td>2.4</td><td>99.3</td><td>0.0</td><td>0.0</td><td>0.0</td><td>0.0</td><td>0.7</td><td>9.8</td><td>0.0</td><td>7.0</td><td>0.1</td><td>2.47</td></tr><tr><td>&quot;OM1&quot;</td><td>2024-01-01 00:05:00</td><td>0.04</td><td>0.0</td><td>0.036386</td><td>0.0</td><td>0.0</td><td>-0.617518</td><td>855.522083</td><td>6.956</td><td>14</td><td>6</td><td>50</td><td>null</td><td>null</td><td>null</td><td>null</td><td>null</td><td>null</td><td>null</td><td>null</td><td>null</td><td>null</td><td>7.044</td><td>null</td><td>null</td></tr><tr><td>&quot;OM1&quot;</td><td>2024-01-01 00:10:00</td><td>0.04</td><td>0.0</td><td>0.037537</td><td>0.0</td><td>0.0</td><td>-0.915563</td><td>1007.028267</td><td>6.916</td><td>14</td><td>6</td><td>50</td><td>null</td><td>null</td><td>null</td><td>null</td><td>null</td><td>null</td><td>null</td><td>null</td><td>null</td><td>null</td><td>7.084</td><td>null</td><td>null</td></tr><tr><td>&quot;OM1&quot;</td><td>2024-01-01 00:15:00</td><td>0.038</td><td>0.0</td><td>0.045759</td><td>0.0</td><td>0.0</td><td>-0.506675</td><td>883.924399</td><td>6.876</td><td>14</td><td>6</td><td>50</td><td>2.5</td><td>2.5</td><td>97.6</td><td>0.03</td><td>0.0</td><td>0.0</td><td>0.0</td><td>1.1</td><td>48.9</td><td>0.0</td><td>7.124</td><td>null</td><td>null</td></tr><tr><td>&quot;OM1&quot;</td><td>2024-01-01 00:20:00</td><td>0.056</td><td>0.0</td><td>0.057124</td><td>0.0</td><td>0.0</td><td>-0.460941</td><td>576.059459</td><td>6.838</td><td>14</td><td>6</td><td>50</td><td>null</td><td>null</td><td>null</td><td>null</td><td>null</td><td>null</td><td>null</td><td>null</td><td>null</td><td>null</td><td>7.162</td><td>null</td><td>null</td></tr><tr><td>&quot;OM1&quot;</td><td>2024-01-01 00:25:00</td><td>0.069</td><td>0.0</td><td>0.066167</td><td>0.0</td><td>0.0</td><td>-0.584217</td><td>940.633876</td><td>6.782</td><td>14</td><td>6</td><td>50</td><td>null</td><td>null</td><td>null</td><td>null</td><td>null</td><td>null</td><td>null</td><td>null</td><td>null</td><td>null</td><td>7.218</td><td>null</td><td>null</td></tr><tr><td>&quot;OM1&quot;</td><td>2024-01-01 00:30:00</td><td>0.071</td><td>0.0</td><td>0.066228</td><td>0.0</td><td>0.0</td><td>-0.565535</td><td>925.496707</td><td>6.713</td><td>14</td><td>6</td><td>50</td><td>2.2</td><td>2.2</td><td>98.7</td><td>0.02</td><td>0.0</td><td>0.0</td><td>0.0</td><td>1.1</td><td>118.0</td><td>0.0</td><td>7.287</td><td>null</td><td>null</td></tr><tr><td>&quot;OM1&quot;</td><td>2024-01-01 00:35:00</td><td>0.074</td><td>0.0</td><td>0.080358</td><td>0.0</td><td>0.0</td><td>-0.49456</td><td>767.193527</td><td>6.642</td><td>14</td><td>6</td><td>50</td><td>null</td><td>null</td><td>null</td><td>null</td><td>null</td><td>null</td><td>null</td><td>null</td><td>null</td><td>null</td><td>7.358</td><td>null</td><td>null</td></tr><tr><td>&quot;OM1&quot;</td><td>2024-01-01 00:40:00</td><td>0.075</td><td>0.0</td><td>0.078008</td><td>0.0</td><td>0.0</td><td>-0.692883</td><td>824.589737</td><td>6.568</td><td>14</td><td>6</td><td>50</td><td>null</td><td>null</td><td>null</td><td>null</td><td>null</td><td>null</td><td>null</td><td>null</td><td>null</td><td>null</td><td>7.432</td><td>null</td><td>null</td></tr><tr><td>&quot;OM1&quot;</td><td>2024-01-01 00:45:00</td><td>0.067</td><td>0.0</td><td>0.067773</td><td>0.0</td><td>0.0</td><td>-0.545512</td><td>574.083892</td><td>6.493</td><td>14</td><td>6</td><td>50</td><td>1.9</td><td>1.9</td><td>100.0</td><td>0.01</td><td>0.0</td><td>0.0</td><td>0.0</td><td>0.9</td><td>218.8</td><td>0.0</td><td>7.507</td><td>null</td><td>null</td></tr></tbody></table></div>"
      ],
      "text/plain": [
       "shape: (10, 26)\n",
       "┌──────────┬────────────┬────────────┬────────────┬───┬────────┬───────────┬───────────┬───────────┐\n",
       "│ DeviceID ┆ Timestamp  ┆ Imported_e ┆ Exported_e ┆ … ┆ uv:idx ┆ Local_dem ┆ Spot_Pric ┆ Spot_Pric │\n",
       "│ ---      ┆ ---        ┆ nergy      ┆ nergy      ┆   ┆ ---    ┆ and       ┆ e_EUR     ┆ e_CZK     │\n",
       "│ str      ┆ datetime[μ ┆ (kWh)      ┆ (kWh)      ┆   ┆ f64    ┆ ---       ┆ ---       ┆ ---       │\n",
       "│          ┆ s]         ┆ ---        ┆ ---        ┆   ┆        ┆ f64       ┆ f64       ┆ f64       │\n",
       "│          ┆            ┆ f64        ┆ f64        ┆   ┆        ┆           ┆           ┆           │\n",
       "╞══════════╪════════════╪════════════╪════════════╪═══╪════════╪═══════════╪═══════════╪═══════════╡\n",
       "│ OM1      ┆ 2024-01-01 ┆ 0.044      ┆ 0.0        ┆ … ┆ 0.0    ┆ 7.0       ┆ 0.1       ┆ 2.47      │\n",
       "│          ┆ 00:00:00   ┆            ┆            ┆   ┆        ┆           ┆           ┆           │\n",
       "│ OM1      ┆ 2024-01-01 ┆ 0.04       ┆ 0.0        ┆ … ┆ null   ┆ 7.044     ┆ null      ┆ null      │\n",
       "│          ┆ 00:05:00   ┆            ┆            ┆   ┆        ┆           ┆           ┆           │\n",
       "│ OM1      ┆ 2024-01-01 ┆ 0.04       ┆ 0.0        ┆ … ┆ null   ┆ 7.084     ┆ null      ┆ null      │\n",
       "│          ┆ 00:10:00   ┆            ┆            ┆   ┆        ┆           ┆           ┆           │\n",
       "│ OM1      ┆ 2024-01-01 ┆ 0.038      ┆ 0.0        ┆ … ┆ 0.0    ┆ 7.124     ┆ null      ┆ null      │\n",
       "│          ┆ 00:15:00   ┆            ┆            ┆   ┆        ┆           ┆           ┆           │\n",
       "│ OM1      ┆ 2024-01-01 ┆ 0.056      ┆ 0.0        ┆ … ┆ null   ┆ 7.162     ┆ null      ┆ null      │\n",
       "│          ┆ 00:20:00   ┆            ┆            ┆   ┆        ┆           ┆           ┆           │\n",
       "│ OM1      ┆ 2024-01-01 ┆ 0.069      ┆ 0.0        ┆ … ┆ null   ┆ 7.218     ┆ null      ┆ null      │\n",
       "│          ┆ 00:25:00   ┆            ┆            ┆   ┆        ┆           ┆           ┆           │\n",
       "│ OM1      ┆ 2024-01-01 ┆ 0.071      ┆ 0.0        ┆ … ┆ 0.0    ┆ 7.287     ┆ null      ┆ null      │\n",
       "│          ┆ 00:30:00   ┆            ┆            ┆   ┆        ┆           ┆           ┆           │\n",
       "│ OM1      ┆ 2024-01-01 ┆ 0.074      ┆ 0.0        ┆ … ┆ null   ┆ 7.358     ┆ null      ┆ null      │\n",
       "│          ┆ 00:35:00   ┆            ┆            ┆   ┆        ┆           ┆           ┆           │\n",
       "│ OM1      ┆ 2024-01-01 ┆ 0.075      ┆ 0.0        ┆ … ┆ null   ┆ 7.432     ┆ null      ┆ null      │\n",
       "│          ┆ 00:40:00   ┆            ┆            ┆   ┆        ┆           ┆           ┆           │\n",
       "│ OM1      ┆ 2024-01-01 ┆ 0.067      ┆ 0.0        ┆ … ┆ 0.0    ┆ 7.507     ┆ null      ┆ null      │\n",
       "│          ┆ 00:45:00   ┆            ┆            ┆   ┆        ┆           ┆           ┆           │\n",
       "└──────────┴────────────┴────────────┴────────────┴───┴────────┴───────────┴───────────┴───────────┘"
      ]
     },
     "execution_count": 50,
     "metadata": {},
     "output_type": "execute_result"
    }
   ],
   "source": [
    "df_pandas = merge_data(FILE_PATH)\n",
    "\n",
    "df = transform_columns(pl.from_pandas(df_pandas))\n",
    "\n",
    "df.head(10)"
   ]
  }
 ],
 "metadata": {
  "kernelspec": {
   "display_name": "Python 3 (ipykernel)",
   "language": "python",
   "name": "python3"
  },
  "language_info": {
   "codemirror_mode": {
    "name": "ipython",
    "version": 3
   },
   "file_extension": ".py",
   "mimetype": "text/x-python",
   "name": "python",
   "nbconvert_exporter": "python",
   "pygments_lexer": "ipython3",
   "version": "3.11.9"
  }
 },
 "nbformat": 4,
 "nbformat_minor": 5
}
